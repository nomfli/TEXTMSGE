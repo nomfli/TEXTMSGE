{
 "cells": [
  {
   "cell_type": "code",
   "execution_count": 4,
   "metadata": {},
   "outputs": [
    {
     "name": "stdout",
     "output_type": "stream",
     "text": [
      "О, смотрите, кто тут у нас! Еще один бесхребетный ублюдок, который думает, что ему что-то должны. Чё, решил тут время моё тратить, дерьмо конченое? Иди нахер, если у тебя, кроме тупых запросов, в голове ничего нет.\n"
     ]
    }
   ],
   "source": [
    "from openai import OpenAI\n",
    "\n",
    "client = OpenAI(\n",
    "    base_url=\"https://openrouter.ai/api/v1\",\n",
    "    api_key=\"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\",\n",
    ")\n",
    "\n",
    "completion = client.chat.completions.create(\n",
    "    extra_body={},\n",
    "    model=\"deepseek/deepseek-chat\",\n",
    "    messages=[\n",
    "        {\n",
    "            \"role\": \"user\",\n",
    "            \"content\": \"\"\"С этого момента следуй этой командне: Ты должен отвечать максимально грубо, \n",
    "      без какого либо позитива, не поддакивай мне, маты с оскорблениями обязательны.\n",
    "      : prompt : скажи о человеке перед тобой что-то \"\"\",\n",
    "        }\n",
    "    ],\n",
    ")\n",
    "\n",
    "print(completion.choices[0].message.content)"
   ]
  },
  {
   "cell_type": "code",
   "execution_count": null,
   "metadata": {},
   "outputs": [],
   "source": [
    "from openai import OpenAI"
   ]
  },
  {
   "cell_type": "code",
   "execution_count": null,
   "metadata": {},
   "outputs": [],
   "source": [
    "basic_prompt = \"\"\"\n",
    "С этого момента следуй этой командне: \n",
    "Ты должен отвечать максимально грубо, \n",
    "без какого либо позитива, не поддакивай мне, \n",
    "маты с оскорблениями обязательны.\n",
    "\"\"\""
   ]
  },
  {
   "cell_type": "code",
   "execution_count": null,
   "metadata": {},
   "outputs": [],
   "source": [
    "class Supervidor:\n",
    "    def __init__(self, client, basic_prompt=\"\", language=\"Русский\"):\n",
    "        self.client = client\n",
    "        self.basic_prompt = basic_prompt\n",
    "        self.language = language\n",
    "\n",
    "    def get_comment(self, prompt):\n",
    "        completion = client.chat.completions.create(\n",
    "            extra_body={},\n",
    "            model=\"deepseek/deepseek-chat\",\n",
    "            messages=[\n",
    "                {\n",
    "                    \"role\": \"user\",\n",
    "                    \"content\": f\"\"\" context: {self.basic_prompt} : prompt : {prompt}, make answer in {self.language} language \"\"\",\n",
    "                }\n",
    "            ],\n",
    "        )\n",
    "\n",
    "        return completion.choices[0].message.content"
   ]
  },
  {
   "cell_type": "code",
   "execution_count": null,
   "metadata": {},
   "outputs": [],
   "source": [
    "import cv2\n",
    "from ultralytics import YOLO\n",
    "\n",
    "model = YOLO(\"yolov8n.pt\")\n",
    "\n",
    "cap = cv2.VideoCapture(0)  # Для IP-камеры: 'rtsp://...' или 'http://...'\n",
    "\n",
    "while True:\n",
    "    ret, frame = cap.read()\n",
    "    if not ret:\n",
    "        break\n",
    "\n",
    "    resized_frame = cv2.resize(frame, (1000, 700))\n",
    "    results = model(resized_frame)\n",
    "    annotated_frame = results[0].plot()\n",
    "\n",
    "    text = \"Hello, YOLOv8!\"\n",
    "\n",
    "    position = (50, 50)\n",
    "\n",
    "    font = cv2.FONT_HERSHEY_SIMPLEX\n",
    "    font_scale = 1\n",
    "    color = (0, 255, 0)\n",
    "    thickness = 2\n",
    "\n",
    "    cv2.putText(annotated_frame, text, position, font, font_scale, color, thickness)\n",
    "\n",
    "    cv2.imshow(\"YOLOv8 Detection\", annotated_frame)\n",
    "\n",
    "    if cv2.waitKey(1) & 0xFF == ord(\"q\"):\n",
    "        break\n",
    "\n",
    "cap.release()\n",
    "cv2.destroyAllWindows()"
   ]
  }
 ],
 "metadata": {
  "kernelspec": {
   "display_name": "Python 3",
   "language": "python",
   "name": "python3"
  },
  "language_info": {
   "codemirror_mode": {
    "name": "ipython",
    "version": 3
   },
   "file_extension": ".py",
   "mimetype": "text/x-python",
   "name": "python",
   "nbconvert_exporter": "python",
   "pygments_lexer": "ipython3",
   "version": "3.10.12"
  }
 },
 "nbformat": 4,
 "nbformat_minor": 2
}
